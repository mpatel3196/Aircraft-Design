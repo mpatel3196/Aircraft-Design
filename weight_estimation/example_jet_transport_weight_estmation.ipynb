{
 "cells": [
  {
   "cell_type": "markdown",
   "metadata": {},
   "source": [
    "# Aircraft Preliminary Weight Estimation"
   ]
  },
  {
   "cell_type": "code",
   "execution_count": 1,
   "metadata": {},
   "outputs": [],
   "source": [
    "from src.standard_atmosphere import standard_atmosphere"
   ]
  },
  {
   "cell_type": "code",
   "execution_count": 2,
   "metadata": {},
   "outputs": [],
   "source": [
    "from src.weight_estmation import *"
   ]
  },
  {
   "cell_type": "markdown",
   "metadata": {},
   "source": [
    "### Aircraft models to choose from\n",
    "\n",
    "        1: 'Sailplane unpowered'\n",
    "        2: 'Sailplane powered'\n",
    "        3: 'Homebuilt- metal/wood'\n",
    "        4: 'Homebuilt- composite'\n",
    "        5: 'General Aviation- single engine'\n",
    "        6: 'General Aviation- twin engine'\n",
    "        7: 'Agricultural aircraft'\n",
    "        8: 'Twin turboprop'\n",
    "        9: 'Flying boat'\n",
    "        10:  'Jet trainer'\n",
    "        11: 'Jet fighter- metal'\n",
    "        12: 'Jet fighter- composite'\n",
    "        13: 'Military cargo/bomber'\n",
    "        14: 'Jet transport'"
   ]
  },
  {
   "cell_type": "code",
   "execution_count": 3,
   "metadata": {},
   "outputs": [],
   "source": [
    "aircraft_type = 14    # insert an index of the aircraft model from above"
   ]
  },
  {
   "cell_type": "markdown",
   "metadata": {},
   "source": [
    "### Engine models to choose from\n",
    "        - Pure Turbo Jet\n",
    "        - Low-bypass turbofan\n",
    "        - High-bypass turbofan\n",
    "        - Piston-prop fixed pitch\n",
    "        - Piston-prop variable pitch\n",
    "        - Turboprop"
   ]
  },
  {
   "cell_type": "code",
   "execution_count": 4,
   "metadata": {},
   "outputs": [],
   "source": [
    "engine_type = 'High-bypass turbofan'    # insert an engine model from above (Case Sensitive)"
   ]
  },
  {
   "cell_type": "markdown",
   "metadata": {},
   "source": [
    "## Inputs"
   ]
  },
  {
   "cell_type": "code",
   "execution_count": 5,
   "metadata": {},
   "outputs": [],
   "source": [
    "# Total Payload\n",
    "# insert a total payload on the airacraft in lbs\n",
    "# it includes weight of passengers, crew, pilots, cargo, weapons etc.\n",
    "W_payload = 95831.022    # in lbs"
   ]
  },
  {
   "cell_type": "code",
   "execution_count": 6,
   "metadata": {},
   "outputs": [],
   "source": [
    "# speed and altitude limits for the aircraft\n",
    "# insert cruise mach and max mach number\n",
    "M_cruise = 0.78   # service ceiling, cruise Mach\n",
    "M_max = 0.82    # speed ceiling, max Mach\n",
    "# insert cruise altitude for the aircraft\n",
    "cruise_altitude = 42000 # ft"
   ]
  },
  {
   "cell_type": "code",
   "execution_count": 7,
   "metadata": {},
   "outputs": [],
   "source": [
    "# getting values of temperature and density at cruise_altitude\n",
    "Rho, Temp = standard_atmosphere(cruise_altitude)"
   ]
  },
  {
   "cell_type": "code",
   "execution_count": 8,
   "metadata": {},
   "outputs": [],
   "source": [
    "# Calculating True Airspeed of the aircraft\n",
    "V = (M_cruise*39*(Temp**0.5)) * 1.687378    # True air speed, V, ft/s"
   ]
  },
  {
   "cell_type": "code",
   "execution_count": 9,
   "metadata": {},
   "outputs": [],
   "source": [
    "# max L/D ratio for the aircraft\n",
    "# insert max L/D\n",
    "L_by_D_max = 18"
   ]
  },
  {
   "cell_type": "code",
   "execution_count": 10,
   "metadata": {},
   "outputs": [],
   "source": [
    "# getting the SFC for the aircraft and engine used\n",
    "SFC_cruise, SFC_loiter = get_SFC(engine_type, V)"
   ]
  },
  {
   "cell_type": "markdown",
   "metadata": {},
   "source": [
    "### mission profile bulider sample\n",
    "mission_profile = {<br>\n",
    "    'takeoff'  : [ ],<br>\n",
    "    'climb'    :     [ ],<br>\n",
    "    'cruise': {'Range(NM)': Range1, 'True_air_speed(ft/s)': TAS, 'L_by_D_max': L_by_D_max, 'SFC': SFC_cruise},<br>\n",
    "    'descent': [ ],<br>\n",
    "    'loiter': {'Endurance(minutes)': Endurance1, 'L_by_D_max': L_by_D_max, 'SFC': SFC_loiter},<br>\n",
    "    'climb2': [ ],<br>\n",
    "    'cruise2': {'Range(NM)': Range2, 'True_air_speed(ft/s)': TAS, 'L_by_D_max': L_by_D_max, 'SFC': SFC_cruise},<br>\n",
    "    'descent2': [ ],<br>\n",
    "    'loiter2': {'Endurance(minutes)': Endurance2, 'L_by_D_max': L_by_D_max, 'SFC': SFC_loiter},<br>\n",
    "    'descent3': [ ],<br>\n",
    "    'landing': [ ]<br>\n",
    "}"
   ]
  },
  {
   "cell_type": "code",
   "execution_count": 11,
   "metadata": {},
   "outputs": [],
   "source": [
    "# Mission Profile for the aircraft\n",
    "# insert an entire mission profile -- as same format as given in sample above\n",
    "mission_profile = {\n",
    "    'takeoff': [],\n",
    "    'climb': [],\n",
    "    'cruise': {'Range(NM)': 2500, 'True_air_speed(ft/s)': V, 'L_by_D_max': L_by_D_max, 'SFC': SFC_cruise},\n",
    "    'descent': [],\n",
    "    'loiter': {'Endurance(minutes)': 15, 'L_by_D_max': L_by_D_max, 'SFC': SFC_loiter},\n",
    "    'climb2': [],\n",
    "    'cruise2': {'Range(NM)': 800, 'True_air_speed(ft/s)': V, 'L_by_D_max': L_by_D_max, 'SFC': SFC_cruise},\n",
    "    'descent2': [],\n",
    "    'loiter2': {'Endurance(minutes)': 15, 'L_by_D_max': L_by_D_max, 'SFC': SFC_loiter},\n",
    "    'descent3': [],\n",
    "    'landing': []\n",
    "}"
   ]
  },
  {
   "cell_type": "markdown",
   "metadata": {},
   "source": [
    "## Outputs"
   ]
  },
  {
   "cell_type": "code",
   "execution_count": 12,
   "metadata": {},
   "outputs": [],
   "source": [
    "## Calculating the values of Take-off gross weight /max weight of the aircraft , ..\n",
    "# .. fuel weight and empty weight of the aircraft\n",
    "W0 = get_takeoff_gross_weight(W_payload, mission_profile, aircraft_type, engine_type, variable_sweep=False)\n",
    "W_fuel = get_fuel_weight(W0, mission_profile, engine_type)\n",
    "W_empty  = get_empty_weight(W0, aircraft_type)"
   ]
  },
  {
   "cell_type": "code",
   "execution_count": 13,
   "metadata": {},
   "outputs": [
    {
     "name": "stdout",
     "output_type": "stream",
     "text": [
      "******************************************\n",
      "Weight Estimation\n",
      "--------------------\n",
      "Total weight: 381771.976 lbs\n",
      "Payload Weight: 95831.022 lbs\n",
      "Fuel Weight: 105848.310 lbs\n",
      "Empty weight: 180092.644 lbs\n",
      "******************************************\n"
     ]
    }
   ],
   "source": [
    "print('******************************************')\n",
    "print('Weight Estimation')\n",
    "print('--------------------')\n",
    "print(f'Total weight: {W0:.3f} lbs')\n",
    "print(f'Payload Weight: {W_payload:.3f} lbs')\n",
    "print(f'Fuel Weight: {W_fuel:.3f} lbs')\n",
    "print(f'Empty weight: {W_empty:.3f} lbs')\n",
    "print('******************************************')"
   ]
  },
  {
   "cell_type": "code",
   "execution_count": null,
   "metadata": {},
   "outputs": [],
   "source": []
  }
 ],
 "metadata": {
  "kernelspec": {
   "display_name": "Python 3",
   "language": "python",
   "name": "python3"
  },
  "language_info": {
   "codemirror_mode": {
    "name": "ipython",
    "version": 3
   },
   "file_extension": ".py",
   "mimetype": "text/x-python",
   "name": "python",
   "nbconvert_exporter": "python",
   "pygments_lexer": "ipython3",
   "version": "3.7.0"
  }
 },
 "nbformat": 4,
 "nbformat_minor": 2
}
